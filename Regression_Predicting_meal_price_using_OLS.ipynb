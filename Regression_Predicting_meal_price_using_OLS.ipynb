{
  "nbformat": 4,
  "nbformat_minor": 0,
  "metadata": {
    "colab": {
      "provenance": [],
      "include_colab_link": true
    },
    "kernelspec": {
      "name": "python3",
      "display_name": "Python 3"
    },
    "language_info": {
      "name": "python"
    }
  },
  "cells": [
    {
      "cell_type": "markdown",
      "metadata": {
        "id": "view-in-github",
        "colab_type": "text"
      },
      "source": [
        "<a href=\"https://colab.research.google.com/github/Aishwarya-s-m/Samsung_CI/blob/main/Regression_Predicting_meal_price_using_OLS.ipynb\" target=\"_parent\"><img src=\"https://colab.research.google.com/assets/colab-badge.svg\" alt=\"Open In Colab\"/></a>"
      ]
    },
    {
      "cell_type": "code",
      "source": [
        "from google.colab import drive\n",
        "drive.mount('/content/drive')"
      ],
      "metadata": {
        "id": "NkS9Cva10Cu6",
        "outputId": "755a60dc-8271-46ed-99a7-4f284f9eb7f5",
        "colab": {
          "base_uri": "https://localhost:8080/"
        }
      },
      "execution_count": 1,
      "outputs": [
        {
          "output_type": "stream",
          "name": "stdout",
          "text": [
            "Mounted at /content/drive\n"
          ]
        }
      ]
    },
    {
      "cell_type": "code",
      "execution_count": 2,
      "metadata": {
        "id": "HppKbgDGzfwd"
      },
      "outputs": [],
      "source": [
        "import pandas as pd\n",
        "import statsmodels.api as sm"
      ]
    },
    {
      "cell_type": "code",
      "source": [],
      "metadata": {
        "id": "vmSolktuvZPk"
      },
      "execution_count": null,
      "outputs": []
    },
    {
      "cell_type": "code",
      "source": [
        "df = pd.read_csv(\"/content/drive/MyDrive/samsung_ic/0.Samsung CSR AIML/Resources/SIC-Artificial-Intelligence/SIC_AI_Coding_Exercises/SIC_AI_Chapter_06_Coding_Exercises/restaurants.csv\")"
      ],
      "metadata": {
        "id": "jAMppgDxz_1B"
      },
      "execution_count": 4,
      "outputs": []
    },
    {
      "cell_type": "code",
      "source": [
        "X = df['Food_Quality']\n",
        "\n",
        "Y = df['Price']"
      ],
      "metadata": {
        "id": "GRkSyC570bta"
      },
      "execution_count": 5,
      "outputs": []
    },
    {
      "cell_type": "code",
      "source": [
        "X = sm.add_constant(X)\n",
        "\n",
        "model = sm.OLS(Y, X).fit()"
      ],
      "metadata": {
        "id": "OlGa0d-X0gSZ"
      },
      "execution_count": 6,
      "outputs": []
    },
    {
      "cell_type": "code",
      "source": [
        "summary = model.summary()\n",
        "print(summary)"
      ],
      "metadata": {
        "id": "JZQ2HhWX0kv_",
        "outputId": "700c4043-4781-4fb6-cc3f-4d17e64e289a",
        "colab": {
          "base_uri": "https://localhost:8080/"
        }
      },
      "execution_count": 7,
      "outputs": [
        {
          "output_type": "stream",
          "name": "stdout",
          "text": [
            "                            OLS Regression Results                            \n",
            "==============================================================================\n",
            "Dep. Variable:                  Price   R-squared:                       0.321\n",
            "Model:                            OLS   Adj. R-squared:                  0.300\n",
            "Method:                 Least Squares   F-statistic:                     15.15\n",
            "Date:                Thu, 21 Aug 2025   Prob (F-statistic):           0.000474\n",
            "Time:                        04:42:35   Log-Likelihood:                -111.50\n",
            "No. Observations:                  34   AIC:                             227.0\n",
            "Df Residuals:                      32   BIC:                             230.0\n",
            "Df Model:                           1                                         \n",
            "Covariance Type:            nonrobust                                         \n",
            "================================================================================\n",
            "                   coef    std err          t      P>|t|      [0.025      0.975]\n",
            "--------------------------------------------------------------------------------\n",
            "const          -23.9019     17.718     -1.349      0.187     -59.992      12.188\n",
            "Food_Quality     3.2495      0.835      3.892      0.000       1.549       4.950\n",
            "==============================================================================\n",
            "Omnibus:                        5.680   Durbin-Watson:                   1.837\n",
            "Prob(Omnibus):                  0.058   Jarque-Bera (JB):                4.769\n",
            "Skew:                           0.507   Prob(JB):                       0.0922\n",
            "Kurtosis:                       4.529   Cond. No.                         332.\n",
            "==============================================================================\n",
            "\n",
            "Notes:\n",
            "[1] Standard Errors assume that the covariance matrix of the errors is correctly specified.\n"
          ]
        }
      ]
    },
    {
      "cell_type": "code",
      "source": [
        "sm.stats.linear_rainbow(model)"
      ],
      "metadata": {
        "id": "JXlijrfQ0pz8",
        "outputId": "c789197b-ac0c-4e32-f249-e3bbd910294c",
        "colab": {
          "base_uri": "https://localhost:8080/"
        }
      },
      "execution_count": 8,
      "outputs": [
        {
          "output_type": "execute_result",
          "data": {
            "text/plain": [
              "(np.float64(3.95352909410105), np.float64(0.0051865838644822495))"
            ]
          },
          "metadata": {},
          "execution_count": 8
        }
      ]
    },
    {
      "cell_type": "code",
      "source": [
        "model.params"
      ],
      "metadata": {
        "id": "9DUwkVTU1jvE",
        "outputId": "16265ab0-3399-4b40-b6c0-569b4f1e9f6f",
        "colab": {
          "base_uri": "https://localhost:8080/",
          "height": 146
        }
      },
      "execution_count": 9,
      "outputs": [
        {
          "output_type": "execute_result",
          "data": {
            "text/plain": [
              "const          -23.901869\n",
              "Food_Quality     3.249533\n",
              "dtype: float64"
            ],
            "text/html": [
              "<div>\n",
              "<style scoped>\n",
              "    .dataframe tbody tr th:only-of-type {\n",
              "        vertical-align: middle;\n",
              "    }\n",
              "\n",
              "    .dataframe tbody tr th {\n",
              "        vertical-align: top;\n",
              "    }\n",
              "\n",
              "    .dataframe thead th {\n",
              "        text-align: right;\n",
              "    }\n",
              "</style>\n",
              "<table border=\"1\" class=\"dataframe\">\n",
              "  <thead>\n",
              "    <tr style=\"text-align: right;\">\n",
              "      <th></th>\n",
              "      <th>0</th>\n",
              "    </tr>\n",
              "  </thead>\n",
              "  <tbody>\n",
              "    <tr>\n",
              "      <th>const</th>\n",
              "      <td>-23.901869</td>\n",
              "    </tr>\n",
              "    <tr>\n",
              "      <th>Food_Quality</th>\n",
              "      <td>3.249533</td>\n",
              "    </tr>\n",
              "  </tbody>\n",
              "</table>\n",
              "</div><br><label><b>dtype:</b> float64</label>"
            ]
          },
          "metadata": {},
          "execution_count": 9
        }
      ]
    },
    {
      "cell_type": "code",
      "source": [
        "model.rsquared"
      ],
      "metadata": {
        "id": "Y2vljdgL2Xol",
        "outputId": "b82b29e7-1392-422e-c897-834b8272705f",
        "colab": {
          "base_uri": "https://localhost:8080/"
        }
      },
      "execution_count": 10,
      "outputs": [
        {
          "output_type": "execute_result",
          "data": {
            "text/plain": [
              "np.float64(0.3212711726017563)"
            ]
          },
          "metadata": {},
          "execution_count": 10
        }
      ]
    },
    {
      "cell_type": "code",
      "source": [
        "df.columns"
      ],
      "metadata": {
        "id": "LlF8F2sv2lK3"
      },
      "execution_count": null,
      "outputs": []
    },
    {
      "cell_type": "markdown",
      "source": [
        "Second Model"
      ],
      "metadata": {
        "id": "Y0kMyjYtVuSW"
      }
    },
    {
      "cell_type": "code",
      "source": [
        "X2 = df['Service_Quality']\n",
        "\n",
        "Y2 = df['Price']"
      ],
      "metadata": {
        "id": "5XVSGEKwVznP"
      },
      "execution_count": 11,
      "outputs": []
    },
    {
      "cell_type": "code",
      "source": [
        "X2 = sm.add_constant(X2)\n",
        "\n",
        "model = sm.OLS(Y2, X2).fit()"
      ],
      "metadata": {
        "id": "3n79YG7OVv3s"
      },
      "execution_count": 12,
      "outputs": []
    },
    {
      "cell_type": "code",
      "source": [
        "summary2 = model.summary()\n",
        "print(summary2)"
      ],
      "metadata": {
        "id": "tkqbJZBXVv3t",
        "outputId": "5d6e91ed-bd3f-43e6-9ca0-f219a78525e9",
        "colab": {
          "base_uri": "https://localhost:8080/"
        }
      },
      "execution_count": 13,
      "outputs": [
        {
          "output_type": "stream",
          "name": "stdout",
          "text": [
            "                            OLS Regression Results                            \n",
            "==============================================================================\n",
            "Dep. Variable:                  Price   R-squared:                       0.177\n",
            "Model:                            OLS   Adj. R-squared:                  0.151\n",
            "Method:                 Least Squares   F-statistic:                     6.886\n",
            "Date:                Thu, 21 Aug 2025   Prob (F-statistic):             0.0132\n",
            "Time:                        04:43:57   Log-Likelihood:                -114.77\n",
            "No. Observations:                  34   AIC:                             233.5\n",
            "Df Residuals:                      32   BIC:                             236.6\n",
            "Df Model:                           1                                         \n",
            "Covariance Type:            nonrobust                                         \n",
            "===================================================================================\n",
            "                      coef    std err          t      P>|t|      [0.025      0.975]\n",
            "-----------------------------------------------------------------------------------\n",
            "const               4.5575     15.428      0.295      0.770     -26.869      35.984\n",
            "Service_Quality     1.9943      0.760      2.624      0.013       0.446       3.542\n",
            "==============================================================================\n",
            "Omnibus:                        1.870   Durbin-Watson:                   1.736\n",
            "Prob(Omnibus):                  0.393   Jarque-Bera (JB):                0.901\n",
            "Skew:                           0.341   Prob(JB):                        0.637\n",
            "Kurtosis:                       3.414   Cond. No.                         251.\n",
            "==============================================================================\n",
            "\n",
            "Notes:\n",
            "[1] Standard Errors assume that the covariance matrix of the errors is correctly specified.\n"
          ]
        }
      ]
    },
    {
      "cell_type": "markdown",
      "source": [
        "Third Model"
      ],
      "metadata": {
        "id": "IlLKQdLQWdLn"
      }
    },
    {
      "cell_type": "code",
      "source": [
        "df.columns"
      ],
      "metadata": {
        "id": "xKh8l5m1XOFc",
        "outputId": "32c7208d-b575-418e-b198-c3228944d204",
        "colab": {
          "base_uri": "https://localhost:8080/"
        }
      },
      "execution_count": 14,
      "outputs": [
        {
          "output_type": "execute_result",
          "data": {
            "text/plain": [
              "Index(['Restaurant_ID', 'Food_Quality', 'Service_Quality', 'Price'], dtype='object')"
            ]
          },
          "metadata": {},
          "execution_count": 14
        }
      ]
    },
    {
      "cell_type": "code",
      "source": [
        "X3 = df.drop(['Restaurant_ID','Price'],axis=1)\n",
        "\n",
        "Y3 = df['Price']"
      ],
      "metadata": {
        "id": "MPr_iBzUV-Od"
      },
      "execution_count": 15,
      "outputs": []
    },
    {
      "cell_type": "code",
      "source": [
        "import statsmodels.api as sm\n",
        "\n",
        "X3 = sm.add_constant(X3)\n",
        "\n",
        "model = sm.OLS(Y3, X3).fit()"
      ],
      "metadata": {
        "id": "JxDzcIW_W1Ca"
      },
      "execution_count": 16,
      "outputs": []
    },
    {
      "cell_type": "code",
      "source": [
        "summary = model.summary()\n",
        "print(summary)"
      ],
      "metadata": {
        "id": "SC6XFMEYW2Bg",
        "outputId": "e91054df-ce2c-4a3c-e59f-88983166d864",
        "colab": {
          "base_uri": "https://localhost:8080/"
        }
      },
      "execution_count": 17,
      "outputs": [
        {
          "output_type": "stream",
          "name": "stdout",
          "text": [
            "                            OLS Regression Results                            \n",
            "==============================================================================\n",
            "Dep. Variable:                  Price   R-squared:                       0.323\n",
            "Model:                            OLS   Adj. R-squared:                  0.279\n",
            "Method:                 Least Squares   F-statistic:                     7.392\n",
            "Date:                Thu, 21 Aug 2025   Prob (F-statistic):            0.00237\n",
            "Time:                        04:44:10   Log-Likelihood:                -111.46\n",
            "No. Observations:                  34   AIC:                             228.9\n",
            "Df Residuals:                      31   BIC:                             233.5\n",
            "Df Model:                           2                                         \n",
            "Covariance Type:            nonrobust                                         \n",
            "===================================================================================\n",
            "                      coef    std err          t      P>|t|      [0.025      0.975]\n",
            "-----------------------------------------------------------------------------------\n",
            "const             -24.5782     18.147     -1.354      0.185     -61.589      12.433\n",
            "Food_Quality        3.0272      1.172      2.584      0.015       0.638       5.417\n",
            "Service_Quality     0.2661      0.968      0.275      0.785      -1.709       2.241\n",
            "==============================================================================\n",
            "Omnibus:                        5.779   Durbin-Watson:                   1.820\n",
            "Prob(Omnibus):                  0.056   Jarque-Bera (JB):                4.898\n",
            "Skew:                           0.513   Prob(JB):                       0.0864\n",
            "Kurtosis:                       4.550   Cond. No.                         463.\n",
            "==============================================================================\n",
            "\n",
            "Notes:\n",
            "[1] Standard Errors assume that the covariance matrix of the errors is correctly specified.\n"
          ]
        }
      ]
    },
    {
      "cell_type": "code",
      "source": [],
      "metadata": {
        "id": "t3yy5D2hW4yX"
      },
      "execution_count": null,
      "outputs": []
    }
  ]
}